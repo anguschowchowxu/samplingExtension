{
 "cells": [
  {
   "cell_type": "code",
   "execution_count": 9,
   "metadata": {
    "collapsed": true
   },
   "outputs": [],
   "source": [
    "import pandas as pd\n",
    "import matplotlib.pyplot as plt\n",
    "import numpy as np\n",
    "%matplotlib inline"
   ]
  },
  {
   "cell_type": "code",
   "execution_count": 10,
   "metadata": {},
   "outputs": [
    {
     "data": {
      "text/html": [
       "<div>\n",
       "<style>\n",
       "    .dataframe thead tr:only-child th {\n",
       "        text-align: right;\n",
       "    }\n",
       "\n",
       "    .dataframe thead th {\n",
       "        text-align: left;\n",
       "    }\n",
       "\n",
       "    .dataframe tbody tr th {\n",
       "        vertical-align: top;\n",
       "    }\n",
       "</style>\n",
       "<table border=\"1\" class=\"dataframe\">\n",
       "  <thead>\n",
       "    <tr style=\"text-align: right;\">\n",
       "      <th></th>\n",
       "      <th>H1_HHID</th>\n",
       "      <th>H2_DwellingType</th>\n",
       "      <th>H5_VehAvailable</th>\n",
       "      <th>Pax_ID</th>\n",
       "      <th>P1_Age</th>\n",
       "      <th>P5_Employ</th>\n",
       "      <th>P6_Occup</th>\n",
       "      <th>Area_name</th>\n",
       "      <th>P2_Gender</th>\n",
       "    </tr>\n",
       "  </thead>\n",
       "  <tbody>\n",
       "    <tr>\n",
       "      <th>0</th>\n",
       "      <td>610348AR1</td>\n",
       "      <td>HDB 5-room</td>\n",
       "      <td>No</td>\n",
       "      <td>1</td>\n",
       "      <td>30-34 yrs old</td>\n",
       "      <td>Employed Full-time</td>\n",
       "      <td>Professional</td>\n",
       "      <td>JURONG WEST</td>\n",
       "      <td>Male</td>\n",
       "    </tr>\n",
       "    <tr>\n",
       "      <th>1</th>\n",
       "      <td>310222AR3</td>\n",
       "      <td>HDB 4-room</td>\n",
       "      <td>Yes</td>\n",
       "      <td>1</td>\n",
       "      <td>25-29 yrs old</td>\n",
       "      <td>Employed Full-time</td>\n",
       "      <td>Associate professional &amp; technician</td>\n",
       "      <td>TOA PAYOH</td>\n",
       "      <td>Male</td>\n",
       "    </tr>\n",
       "    <tr>\n",
       "      <th>2</th>\n",
       "      <td>069911AR1</td>\n",
       "      <td>Shophouse</td>\n",
       "      <td>No</td>\n",
       "      <td>1</td>\n",
       "      <td>25-29 yrs old</td>\n",
       "      <td>Employed Full-time</td>\n",
       "      <td>Service &amp; sales worker</td>\n",
       "      <td>OUTRAM</td>\n",
       "      <td>Female</td>\n",
       "    </tr>\n",
       "    <tr>\n",
       "      <th>3</th>\n",
       "      <td>085101BR1</td>\n",
       "      <td>HDB 4-room</td>\n",
       "      <td>Yes</td>\n",
       "      <td>4</td>\n",
       "      <td>6-9 yrs old</td>\n",
       "      <td>Full time student</td>\n",
       "      <td>NaN</td>\n",
       "      <td>OUTRAM</td>\n",
       "      <td>Male</td>\n",
       "    </tr>\n",
       "    <tr>\n",
       "      <th>4</th>\n",
       "      <td>085101BR1</td>\n",
       "      <td>HDB 4-room</td>\n",
       "      <td>Yes</td>\n",
       "      <td>1</td>\n",
       "      <td>40-44 yrs old</td>\n",
       "      <td>Employed Full-time</td>\n",
       "      <td>Service &amp; sales worker</td>\n",
       "      <td>OUTRAM</td>\n",
       "      <td>Male</td>\n",
       "    </tr>\n",
       "  </tbody>\n",
       "</table>\n",
       "</div>"
      ],
      "text/plain": [
       "     H1_HHID H2_DwellingType H5_VehAvailable  Pax_ID         P1_Age  \\\n",
       "0  610348AR1      HDB 5-room              No       1  30-34 yrs old   \n",
       "1  310222AR3      HDB 4-room             Yes       1  25-29 yrs old   \n",
       "2  069911AR1       Shophouse              No       1  25-29 yrs old   \n",
       "3  085101BR1      HDB 4-room             Yes       4    6-9 yrs old   \n",
       "4  085101BR1      HDB 4-room             Yes       1  40-44 yrs old   \n",
       "\n",
       "            P5_Employ                             P6_Occup    Area_name  \\\n",
       "0  Employed Full-time                         Professional  JURONG WEST   \n",
       "1  Employed Full-time  Associate professional & technician    TOA PAYOH   \n",
       "2  Employed Full-time               Service & sales worker       OUTRAM   \n",
       "3   Full time student                                  NaN       OUTRAM   \n",
       "4  Employed Full-time               Service & sales worker       OUTRAM   \n",
       "\n",
       "  P2_Gender  \n",
       "0      Male  \n",
       "1      Male  \n",
       "2    Female  \n",
       "3      Male  \n",
       "4      Male  "
      ]
     },
     "execution_count": 10,
     "metadata": {},
     "output_type": "execute_result"
    }
   ],
   "source": [
    "df = pd.read_csv('../data/pop_sample_2.csv')\n",
    "df.head()"
   ]
  },
  {
   "cell_type": "code",
   "execution_count": 29,
   "metadata": {},
   "outputs": [
    {
     "data": {
      "text/plain": [
       "<Container object of 8 artists>"
      ]
     },
     "execution_count": 29,
     "metadata": {},
     "output_type": "execute_result"
    },
    {
     "data": {
      "text/plain": [
       "<matplotlib.text.Text at 0x23585847208>"
      ]
     },
     "execution_count": 29,
     "metadata": {},
     "output_type": "execute_result"
    },
    {
     "data": {
      "text/plain": [
       "([<matplotlib.axis.XTick at 0x23585821080>,\n",
       "  <matplotlib.axis.XTick at 0x23585837f28>,\n",
       "  <matplotlib.axis.XTick at 0x23585824080>,\n",
       "  <matplotlib.axis.XTick at 0x23585889d68>,\n",
       "  <matplotlib.axis.XTick at 0x2358588e780>,\n",
       "  <matplotlib.axis.XTick at 0x23585892198>,\n",
       "  <matplotlib.axis.XTick at 0x23585892b70>,\n",
       "  <matplotlib.axis.XTick at 0x23585896588>],\n",
       " <a list of 8 Text xticklabel objects>)"
      ]
     },
     "execution_count": 29,
     "metadata": {},
     "output_type": "execute_result"
    },
    {
     "data": {
      "image/png": "[encoded data removed]",
      "text/plain": [
       "<matplotlib.figure.Figure at 0x23585184668>"
      ]
     },
     "metadata": {},
     "output_type": "display_data"
    }
   ],
   "source": [
    "_ = df[df.P6_Occup.isnull()]['P5_Employ'].value_counts()\n",
    "\n",
    "plt.bar(range(0,len(_)),_)\n",
    "plt.title('Employ type with Occupation as NaN')\n",
    "plt.xticks(range(0,len(_)),_.index.tolist(),rotation=45)\n",
    "# plt.savefig('../report/image/eg5_nan_1.jpg')"
   ]
  },
  {
   "cell_type": "code",
   "execution_count": 30,
   "metadata": {},
   "outputs": [
    {
     "data": {
      "text/plain": [
       "<Container object of 3 artists>"
      ]
     },
     "execution_count": 30,
     "metadata": {},
     "output_type": "execute_result"
    },
    {
     "data": {
      "text/plain": [
       "<matplotlib.text.Text at 0x235858c6ef0>"
      ]
     },
     "execution_count": 30,
     "metadata": {},
     "output_type": "execute_result"
    },
    {
     "data": {
      "text/plain": [
       "([<matplotlib.axis.XTick at 0x23585824518>,\n",
       "  <matplotlib.axis.XTick at 0x23585821240>,\n",
       "  <matplotlib.axis.XTick at 0x23585829cc0>],\n",
       " <a list of 3 Text xticklabel objects>)"
      ]
     },
     "execution_count": 30,
     "metadata": {},
     "output_type": "execute_result"
    },
    {
     "data": {
      "image/png": "[encoded data removed]",
      "text/plain": [
       "<matplotlib.figure.Figure at 0x23585471be0>"
      ]
     },
     "metadata": {},
     "output_type": "display_data"
    }
   ],
   "source": [
    "_ = df[~df.P6_Occup.isnull()]['P5_Employ'].value_counts()\n",
    "\n",
    "plt.bar(range(0,len(_)),_)\n",
    "plt.title('Employ type with Occupation as not NaN')\n",
    "plt.xticks(range(0,len(_)),_.index.tolist(),rotation=0)\n",
    "plt.savefig('../report/image/eg5_nan_2.jpg')"
   ]
  },
  {
   "cell_type": "code",
   "execution_count": null,
   "metadata": {
    "collapsed": true
   },
   "outputs": [],
   "source": []
  }
 ],
 "metadata": {
  "kernelspec": {
   "display_name": "Python 3",
   "language": "python",
   "name": "python3"
  },
  "language_info": {
   "codemirror_mode": {
    "name": "ipython",
    "version": 3
   },
   "file_extension": ".py",
   "mimetype": "text/x-python",
   "name": "python",
   "nbconvert_exporter": "python",
   "pygments_lexer": "ipython3",
   "version": "3.6.2"
  }
 },
 "nbformat": 4,
 "nbformat_minor": 2
}
